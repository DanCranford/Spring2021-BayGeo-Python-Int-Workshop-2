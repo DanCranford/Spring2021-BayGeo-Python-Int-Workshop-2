{
 "cells": [
  {
   "cell_type": "markdown",
   "metadata": {},
   "source": [
    "### Problem 1.  \n",
    "\n",
    "We'd like to export our feature layer as a feature class in a file geodatabase.\n",
    "\n",
    "- [query a feature layer](https://developers.arcgis.com/python/api-reference/arcgis.features.toc.html?highlight=query#arcgis.features.FeatureLayer.query) - using the parameter `as_df = True` will return a pandas DataFrame\n",
    "- [create a file geodatabase](https://pro.arcgis.com/en/pro-app/latest/tool-reference/data-management/create-file-gdb.htm)\n",
    "- [convert a DataFrame to a feature class](https://developers.arcgis.com/python/api-reference/arcgis.features.toc.html?highlight=to_featureclass#arcgis.features.GeoAccessor.to_featureclass)\n",
    "\n",
    "You should be able to take code from our other notebook and use that to create a feature layer and query it."
   ]
  },
  {
   "cell_type": "code",
   "execution_count": null,
   "metadata": {},
   "outputs": [],
   "source": []
  },
  {
   "cell_type": "markdown",
   "metadata": {},
   "source": [
    "### Problem 2.  \n",
    "\n",
    "Let's try to edit more features.  If you've visited different states we can update the same feature layer and add to the **VISITED** field using logic similar to what we set up in class.\n",
    "\n",
    "- [query a feature layer](https://developers.arcgis.com/python/api-reference/arcgis.features.toc.html?highlight=query#arcgis.features.FeatureLayer.query) \n",
    "- modify the [features](https://developers.arcgis.com/python/api-reference/arcgis.features.toc.html#feature) in the resultant [FeatureSet](https://developers.arcgis.com/python/api-reference/arcgis.features.toc.html#featureset)\n",
    "- use your modified features to [edit_features](https://developers.arcgis.com/python/api-reference/arcgis.features.toc.html?highlight=edit_features#arcgis.features.FeatureLayer.edit_features) back to the feature layer"
   ]
  },
  {
   "cell_type": "markdown",
   "metadata": {},
   "source": []
  }
 ],
 "metadata": {
  "kernelspec": {
   "display_name": "Python 3",
   "language": "python",
   "name": "python3"
  },
  "language_info": {
   "codemirror_mode": {
    "name": "ipython",
    "version": 3
   },
   "file_extension": ".py",
   "mimetype": "text/x-python",
   "name": "python",
   "nbconvert_exporter": "python",
   "pygments_lexer": "ipython3",
   "version": "3.7.10"
  }
 },
 "nbformat": 4,
 "nbformat_minor": 4
}
