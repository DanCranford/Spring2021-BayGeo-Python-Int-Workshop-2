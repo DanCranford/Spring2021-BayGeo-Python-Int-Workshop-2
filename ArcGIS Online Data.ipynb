{
 "cells": [
  {
   "cell_type": "markdown",
   "metadata": {},
   "source": [
    "# ArcGIS Online Data\n"
   ]
  },
  {
   "cell_type": "markdown",
   "metadata": {},
   "source": [
    "The arcgis Python API allows you to connect to your ArcGIS Online Organization through Python. Just like accessing ArcGIS Online through a web browser, you need to login to access your data.\n",
    "\n",
    "Data in ArcGIS Online is stored as feature layers and tables. These have similar properties to geodatabases and feature classes. Featuresets and Feature Collections are similar to the feature layers we have worked with in arcpy. These are used to update the feature services.\n",
    "\n",
    "Link to arcgis Python API documentation: https://developers.arcgis.com/python/api-reference/"
   ]
  },
  {
   "cell_type": "markdown",
   "metadata": {},
   "source": [
    "### The GIS Module \n"
   ]
  },
  {
   "cell_type": "markdown",
   "metadata": {},
   "source": [
    "The [GIS](https://developers.arcgis.com/python/api-reference/arcgis.gis.toc.html#gis) object is the way the Python API for ArcGIS handles your credentials to ArcGIS Online.  [This](https://developers.arcgis.com/python/guide/the-gis-module/) page gives a pretty decent overview of the different useful parts of a GIS object.\n",
    "\n",
    "![Image of API](https://developers.arcgis.com/assets/img/python-graphics/guide_gis_module_01.png)"
   ]
  },
  {
   "cell_type": "code",
   "execution_count": null,
   "metadata": {},
   "outputs": [],
   "source": [
    "import arcgis\n",
    "\n",
    "session_gis = arcgis.GIS(\"pro\")"
   ]
  },
  {
   "cell_type": "code",
   "execution_count": null,
   "metadata": {
    "scrolled": true
   },
   "outputs": [],
   "source": [
    "session_gis.users.me"
   ]
  },
  {
   "cell_type": "markdown",
   "metadata": {},
   "source": [
    "### Items and Feature Layers\n",
    "\n",
    "The [Item](https://developers.arcgis.com/python/api-reference/arcgis.gis.toc.html#item) object is the basic unit at which ArcGIS Online (and Portal for ArcGIS) tracks data, maps and apps.  "
   ]
  },
  {
   "cell_type": "code",
   "execution_count": null,
   "metadata": {},
   "outputs": [],
   "source": [
    "item_to_export = arcgis.gis.Item(session_gis, '973066d2de4640dfa2c628e884190a35')\n",
    "item_to_export"
   ]
  },
  {
   "cell_type": "markdown",
   "metadata": {},
   "source": [
    "The [Feature Layer](https://developers.arcgis.com/python/api-reference/arcgis.features.toc.html#featurelayer) object is the primary way you can interact with data on ArcGIS Online.  Because ArcGIS Online is a REST-based system, the primary way you can pull data from it is with the [query](https://developers.arcgis.com/python/api-reference/arcgis.features.toc.html#arcgis.features.FeatureLayer.query) method."
   ]
  },
  {
   "cell_type": "code",
   "execution_count": null,
   "metadata": {},
   "outputs": [],
   "source": [
    "print(item_to_export.layers)\n",
    "\n",
    "lyr_to_export = item_to_export.layers[0]"
   ]
  },
  {
   "cell_type": "code",
   "execution_count": null,
   "metadata": {
    "scrolled": true
   },
   "outputs": [],
   "source": [
    "# grab the total amount of features\n",
    "feature_count = lyr_to_export.query(return_count_only=True)\n",
    "\n",
    "# check out the fields\n",
    "fields = [f['name'] for f in lyr_to_export.properties.fields]\n",
    "\n",
    "print(\"Total Features: {}\".format(feature_count))\n",
    "for field in fields:\n",
    "    print(field)"
   ]
  },
  {
   "cell_type": "code",
   "execution_count": null,
   "metadata": {
    "scrolled": true
   },
   "outputs": [],
   "source": [
    "\n",
    "#The arcgis Python API also supports a map widget, which you can use in Jupyter Notebooks to display maps and data\n",
    "amap = session_gis.map(location='San Francisco, Ca')\n",
    "amap"
   ]
  },
  {
   "cell_type": "code",
   "execution_count": null,
   "metadata": {},
   "outputs": [],
   "source": [
    "amap.add_layer(lyr_to_export)"
   ]
  },
  {
   "cell_type": "code",
   "execution_count": null,
   "metadata": {},
   "outputs": [],
   "source": []
  },
  {
   "cell_type": "markdown",
   "metadata": {},
   "source": [
    "## Exporting ArcGIS Online Data"
   ]
  },
  {
   "cell_type": "code",
   "execution_count": null,
   "metadata": {},
   "outputs": [],
   "source": [
    "df_to_export = lyr_to_export.query(as_df=True)\n",
    "\n",
    "df_to_export.head()"
   ]
  },
  {
   "cell_type": "code",
   "execution_count": null,
   "metadata": {},
   "outputs": [],
   "source": [
    "df_to_export.drop(columns=['SHAPE']).to_excel('./export.xlsx', index=False)"
   ]
  },
  {
   "cell_type": "markdown",
   "metadata": {},
   "source": [
    "We can also export a dataframe to an arcpy feature class or shapefile if it has geometry."
   ]
  },
  {
   "cell_type": "markdown",
   "metadata": {},
   "source": [
    "### Problem 1 Solution"
   ]
  },
  {
   "cell_type": "code",
   "execution_count": null,
   "metadata": {},
   "outputs": [],
   "source": [
    "import arcpy\n",
    "import os\n",
    "\n",
    "gdb = arcpy.management.CreateFileGDB('.', 'AGOL_Export')[0]\n",
    "df_to_export.spatial.to_featureclass(os.path.join(gdb, 'states'))"
   ]
  },
  {
   "cell_type": "markdown",
   "metadata": {},
   "source": [
    "## Editing Data in ArcGIS Online"
   ]
  },
  {
   "cell_type": "markdown",
   "metadata": {},
   "source": [
    "\n",
    "Editing data in ArcGIS Online is a very in-demand process as more workflows are moving to the cloud. While ArcGIS Online makes it much easier for multiple users to edit the same dataset by hand, it presents some problems for automation. With desktop GIS and local datasets, you have pretty easy access to the table data via databases or shapefiles. With ArcGIS Online, you only have access to the server. This means that rather than directly edit the data, you have to interact with the server through the following steps:\n",
    "\n",
    "- query the target dataset creating a copy\n",
    "- modify your copy of the dataset\n",
    "- communicate your changes back to the server\n",
    "\n",
    "Let's suppose (for an example) that we have a project where we're collecting field data. In this case, we'll use some dummy vegetation data. Our field users want a useful way to identify their points and communicate to each other once they've collected their data.\n",
    "\n",
    "In desktop programs and databases, ArcGIS provides a special kind of field called an \"Auto-Incrementing ID\" field. This helps end users communicate which feature they're talking about in a very human-friendly way. A lot of data analysts really like this idea, but ArcGIS Online doesn't do that for us. If we want it, we'll have to do it ourselves."
   ]
  },
  {
   "cell_type": "code",
   "execution_count": null,
   "metadata": {},
   "outputs": [],
   "source": [
    "item_toedit = arcgis.gis.Item(session_gis, '973066d2de4640dfa2c628e884190a35')\n",
    "item_toedit"
   ]
  },
  {
   "cell_type": "code",
   "execution_count": null,
   "metadata": {},
   "outputs": [],
   "source": [
    "lyr_toedit = item_toedit.layers[0]"
   ]
  },
  {
   "cell_type": "code",
   "execution_count": null,
   "metadata": {},
   "outputs": [],
   "source": [
    "fset_all = lyr_toedit.query(return_geometry=False)\n",
    "print(type(fset_all))\n",
    "\n",
    "df_all = lyr_toedit.query(as_df=True)\n",
    "print(type(df_all))"
   ]
  },
  {
   "cell_type": "code",
   "execution_count": null,
   "metadata": {},
   "outputs": [],
   "source": [
    "df_all.head()"
   ]
  },
  {
   "cell_type": "code",
   "execution_count": null,
   "metadata": {},
   "outputs": [],
   "source": [
    "\n",
    "where_im_from = 'New York'\n",
    "fset_homestate = lyr_toedit.query(where=\"STATE_NAME = '{}'\".format(where_im_from))\n",
    "\n",
    "for feature in fset_homestate.features:\n",
    "    old_value = feature.get_value('LIVED_IN')\n",
    "    new_value = old_value + 1\n",
    "    feature.set_value('LIVED_IN', new_value)\n",
    "\n",
    "lyr_toedit.edit_features(updates=fset_homestate.features)"
   ]
  },
  {
   "cell_type": "code",
   "execution_count": null,
   "metadata": {},
   "outputs": [],
   "source": []
  }
 ],
 "metadata": {
  "kernelspec": {
   "display_name": "Python 3",
   "language": "python",
   "name": "python3"
  },
  "language_info": {
   "codemirror_mode": {
    "name": "ipython",
    "version": 3
   },
   "file_extension": ".py",
   "mimetype": "text/x-python",
   "name": "python",
   "nbconvert_exporter": "python",
   "pygments_lexer": "ipython3",
   "version": "3.7.10"
  }
 },
 "nbformat": 4,
 "nbformat_minor": 4
}
